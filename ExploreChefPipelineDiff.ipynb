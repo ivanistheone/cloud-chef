{
 "cells": [
  {
   "cell_type": "code",
   "execution_count": 1,
   "metadata": {},
   "outputs": [],
   "source": [
    "import os\n",
    "import json\n",
    "import csv\n",
    "import requests"
   ]
  },
  {
   "cell_type": "markdown",
   "metadata": {},
   "source": [
    "\n",
    "## Get from Trello\n",
    "\n",
    "Go to this URL https://trello.com/b/vVQfKuJB.json in your browser and save under `inventory/`."
   ]
  },
  {
   "cell_type": "code",
   "execution_count": 2,
   "metadata": {},
   "outputs": [
    {
     "name": "stdout",
     "output_type": "stream",
     "text": [
      "found 129 Trello cards\n"
     ]
    }
   ],
   "source": [
    "\n",
    "def archive_trello_json(trello_board, json_filename='vVQfKuJB.json'):\n",
    "    ARCHIVES_BASE_DIR = 'inventory/trelloarchives'\n",
    "    import datetime, os\n",
    "    subdir = datetime.datetime.now().strftime('%Y-%m-%d__%Hh')\n",
    "    archive_dir = os.path.join(ARCHIVES_BASE_DIR, subdir)\n",
    "    if not os.path.exists(archive_dir):\n",
    "        os.makedirs(archive_dir, exist_ok=True)\n",
    "    json_path = os.path.join(archive_dir, json_filename)\n",
    "    with open(json_path, 'w') as json_file:\n",
    "        json.dump(trello_board, json_file, indent=4, sort_keys=True)\n",
    "    \n",
    "def get_trello_data(json_export_path='inventory/vVQfKuJB.json'):\n",
    "    trello_board = json.load(open(json_export_path))\n",
    "    \n",
    "    archive_trello_json(trello_board)   # save a copy of the json for later diffing...\n",
    "\n",
    "    # list columns\n",
    "    status_columns = trello_board['lists']\n",
    "    list_lookup = {}\n",
    "    for status_column in status_columns:\n",
    "        list_lookup[status_column['id']] = status_column['name']\n",
    "\n",
    "    def should_reject(card):\n",
    "        REJECT_PATTERNS = ['DEVELOPER', 'EVERYONE', 'IMPLEMENTATIONS',\n",
    "                           'TECHNICAL LEAD', 'Implementations Members',\n",
    "                            'TEMPLATE CARD', 'Technical Leads']\n",
    "        if card['closed'] or '__' in card['name']:\n",
    "            return True\n",
    "        for p in REJECT_PATTERNS:\n",
    "            if p in card['name']:\n",
    "                return True\n",
    "        return False\n",
    "\n",
    "    # Extract only necessary info\n",
    "    cards = trello_board['cards']\n",
    "    trello_data = {}\n",
    "    for card in cards:\n",
    "        if should_reject(card):\n",
    "            continue\n",
    "        name = card['name']\n",
    "        if name in trello_data:\n",
    "            print('Found a duplicate card', name, card)\n",
    "        \n",
    "        trello_status = list_lookup[card['idList']]   # capital S to match notion json\n",
    "        # Rename to Notion status\n",
    "        if trello_status == 'Share With Provider':\n",
    "            trello_status = 'Partner Review'\n",
    "        if trello_status == 'Upcoming Sources':\n",
    "            trello_status = 'Backlog'\n",
    "        trello_data[name] = dict(\n",
    "            id=card['id'],\n",
    "            name=name,\n",
    "            description=card['desc'],\n",
    "            Status=trello_status\n",
    "        )\n",
    "    print('found', len(trello_data.keys()), 'Trello cards')\n",
    "\n",
    "    return trello_data\n",
    "\n",
    "\n",
    "\n",
    "trello_data = get_trello_data()"
   ]
  },
  {
   "cell_type": "code",
   "execution_count": null,
   "metadata": {},
   "outputs": [],
   "source": []
  },
  {
   "cell_type": "code",
   "execution_count": null,
   "metadata": {},
   "outputs": [],
   "source": []
  },
  {
   "cell_type": "code",
   "execution_count": null,
   "metadata": {},
   "outputs": [],
   "source": []
  },
  {
   "cell_type": "code",
   "execution_count": null,
   "metadata": {},
   "outputs": [],
   "source": []
  },
  {
   "cell_type": "code",
   "execution_count": null,
   "metadata": {},
   "outputs": [],
   "source": []
  },
  {
   "cell_type": "code",
   "execution_count": null,
   "metadata": {},
   "outputs": [],
   "source": []
  },
  {
   "cell_type": "code",
   "execution_count": null,
   "metadata": {},
   "outputs": [],
   "source": []
  },
  {
   "cell_type": "code",
   "execution_count": null,
   "metadata": {},
   "outputs": [],
   "source": []
  },
  {
   "cell_type": "code",
   "execution_count": null,
   "metadata": {},
   "outputs": [],
   "source": []
  },
  {
   "cell_type": "markdown",
   "metadata": {},
   "source": [
    "## Get notion.so data\n",
    "\n",
    "1. Use the export function of the Cheffing Board\n",
    "   https://www.notion.so/learningequality/515f1acd396641c39003020735d97500?v=955b63e44bed4263930176fee073e2fd\n",
    "2. Unzip and copy the .csv file to `inverntory/` dir"
   ]
  },
  {
   "cell_type": "code",
   "execution_count": 3,
   "metadata": {},
   "outputs": [
    {
     "name": "stdout",
     "output_type": "stream",
     "text": [
      "found 109 Notion cards\n"
     ]
    }
   ],
   "source": [
    "DEFAULT_NOTION_CSV_PATH = 'inventory/Cheffing-Board-c70d925f-fd8f-4134-a26b-0b71a14bd6ff.csv'\n",
    "def get_notion_data(notion_csv_path=DEFAULT_NOTION_CSV_PATH):\n",
    "    reader = csv.DictReader(open(notion_csv_path))\n",
    "    rows = list(reader)\n",
    "    \n",
    "    notion_data = {}\n",
    "    for row in rows:\n",
    "        row = dict(row)\n",
    "        name = row['name']=row['\\ufeffName']\n",
    "        del row['\\ufeffName']\n",
    "        # name = row['name']\n",
    "        notion_data[name] = row\n",
    "    print('found', len(notion_data.keys()), 'Notion cards')\n",
    "    \n",
    "    return notion_data\n",
    "\n",
    "notion_data = get_notion_data()"
   ]
  },
  {
   "cell_type": "code",
   "execution_count": null,
   "metadata": {
    "scrolled": true
   },
   "outputs": [],
   "source": []
  },
  {
   "cell_type": "code",
   "execution_count": null,
   "metadata": {},
   "outputs": [],
   "source": []
  },
  {
   "cell_type": "code",
   "execution_count": null,
   "metadata": {},
   "outputs": [],
   "source": []
  },
  {
   "cell_type": "code",
   "execution_count": 4,
   "metadata": {},
   "outputs": [
    {
     "name": "stdout",
     "output_type": "stream",
     "text": [
      "The following cards are not on Notion yet:\n",
      "  - MIT Blossoms\n",
      "  - Sikana\n",
      "  - Khan Academy (Burmese)\n",
      "  - African Storybook\n",
      "  - Khan Academy (Gujarati)\n",
      "  - Developers (#sushi-chefs channel on slack)\n",
      "  - Global Digital Library\n",
      "  - Khan Academy\n",
      "  - Engage NY (English)\n",
      "  - Khan Academy (Korean)\n",
      "  - Touchable Earth\n",
      "  - CK-12\n",
      "  - Tahrir Academy\n",
      "  - GLEN world\n",
      "  - Open Osmosis\n",
      "  - Edraak\n",
      "  - Lakou Kajou (Blue Butterfly Collaborative)\n",
      "  - SDG Resource Center (RELX Group)\n",
      "  - Be Internet Strong\n",
      "  - OpenStax\n"
     ]
    }
   ],
   "source": [
    "# Diff Trello and Notion\n",
    "trello_names = set(trello_data.keys())\n",
    "notion_names = set(notion_data.keys())\n",
    "\n",
    "print(\"The following cards are not on Notion yet:\")\n",
    "for name in (trello_names - notion_names):\n",
    "    print('  -', name)\n",
    "\n",
    "notino_only_names = (notion_names - trello_names)\n",
    "if notino_only_names:\n",
    "    print(\"The following cards are on Notion but not on Trello:\")\n",
    "    for name in (notion_names - trello_names):\n",
    "        print('  -', name)\n"
   ]
  },
  {
   "cell_type": "code",
   "execution_count": 5,
   "metadata": {
    "scrolled": true
   },
   "outputs": [
    {
     "name": "stdout",
     "output_type": "stream",
     "text": [
      "Proyecto Descartes                           \t trello:Feedback needed  notion:In Development\n",
      "Concord Consortium Science Simulations       \t trello:Ready for Chef   notion:Tech Specs Needed\n",
      "Khan Academy (Armenian)                      \t trello:Partner Review   notion:Ready for Chef\n",
      "Espresso English                             \t trello:QA Needed        notion:Feedback needed\n",
      "Shamsuna Al-Arabiyah: MIT Basic Chemistry (Ar\t trello:Feedback needed  notion:QA Needed   \n",
      "Free English with Hello Channel              \t trello:Feedback needed  notion:Tech Specs Needed\n",
      "PraDigi (aka Pratham Open School)            \t trello:In Development   notion:Partner Review\n",
      "Proyecto Biosfera                            \t trello:Feedback needed  notion:In Development\n",
      "Al-Riyadiyat with Basil Al-Zubaidi العربيّة  \t trello:Feedback needed  notion:Ready for Chef\n",
      "TED Talk and Video Lessons with (Multiple Lan\t trello:Feedback needed  notion:In Development\n",
      "Hsoub Academy                                \t trello:QA Needed        notion:Tech Specs Needed\n",
      "PhET Interactive Simulation (العربيّة)       \t trello:QA Needed        notion:Feedback needed\n",
      "Khan Academy (Bulgarian)                     \t trello:PUBLIC           notion:Backlog     \n",
      "Khan Academy (Arabic)                        \t trello:Backlog          notion:Spec Details Needed\n",
      "Career Girls                                 \t trello:QA Needed        notion:In Development\n"
     ]
    }
   ],
   "source": [
    "# Status Diff\n",
    "trello_names = set(trello_data.keys())\n",
    "notion_names = set(notion_data.keys())\n",
    "names = trello_names.intersection(notion_names)\n",
    "\n",
    "for name in names:\n",
    "    tc = trello_data[name]\n",
    "    nc = notion_data[name]\n",
    "    if tc['Status'] == nc['Status']:\n",
    "        #print('OK:', name) \n",
    "        pass\n",
    "    else:\n",
    "        line = \"{0:45}\\t trello:{1:15}  notion:{2:12}\".format(name[0:45], tc['Status'], nc['Status'])\n",
    "        print(line)"
   ]
  },
  {
   "cell_type": "code",
   "execution_count": null,
   "metadata": {},
   "outputs": [],
   "source": []
  },
  {
   "cell_type": "code",
   "execution_count": null,
   "metadata": {},
   "outputs": [],
   "source": []
  }
 ],
 "metadata": {
  "kernelspec": {
   "display_name": "Python 3",
   "language": "python",
   "name": "python3"
  },
  "language_info": {
   "codemirror_mode": {
    "name": "ipython",
    "version": 3
   },
   "file_extension": ".py",
   "mimetype": "text/x-python",
   "name": "python",
   "nbconvert_exporter": "python",
   "pygments_lexer": "ipython3",
   "version": "3.6.4"
  }
 },
 "nbformat": 4,
 "nbformat_minor": 2
}
